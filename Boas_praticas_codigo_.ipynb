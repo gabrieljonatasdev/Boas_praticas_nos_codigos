{
  "nbformat": 4,
  "nbformat_minor": 0,
  "metadata": {
    "colab": {
      "provenance": []
    },
    "kernelspec": {
      "name": "python3",
      "display_name": "Python 3"
    },
    "language_info": {
      "name": "python"
    }
  },
  "cells": [
    {
      "cell_type": "code",
      "execution_count": 14,
      "metadata": {
        "colab": {
          "base_uri": "https://localhost:8080/"
        },
        "id": "RZt74F2LcK5I",
        "outputId": "c6bc7999-07ab-47b8-df75-745614966b2d"
      },
      "outputs": [
        {
          "output_type": "stream",
          "name": "stdout",
          "text": [
            "Por favor, insira seu nome:gabriel\n",
            "Olá gabriel ! Seja bem vindo ao nsso sistema.\n"
          ]
        }
      ],
      "source": [
        "nome_usuario = input(\"Por favor, insira seu nome:\")\n",
        "print(\"Olá\", nome_usuario,\"! Seja bem vindo ao nsso sistema.\")\n"
      ]
    },
    {
      "cell_type": "code",
      "source": [
        "idade_usuario = int(input(\"Por favor, insira sua idade:\"))\n",
        "if idade_usuario >= 18:\n",
        "  print(\"Você é maior de idade!\")\n",
        "else:\n",
        "  print(\"Você é menor de idade!\")"
      ],
      "metadata": {
        "colab": {
          "base_uri": "https://localhost:8080/"
        },
        "id": "lH8o5CGRgnto",
        "outputId": "77b492c7-c3b6-4a4b-cabf-edd68a505a73"
      },
      "execution_count": 16,
      "outputs": [
        {
          "output_type": "stream",
          "name": "stdout",
          "text": [
            "Por favor, insira sua idade:28\n",
            "Você é maior de idade!\n"
          ]
        }
      ]
    }
  ]
}